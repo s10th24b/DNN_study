{
 "cells": [
  {
   "cell_type": "code",
   "execution_count": null,
   "metadata": {},
   "outputs": [],
   "source": [
    "import tensorflow as tf\n",
    "import numpy as np\n",
    "\n",
    "t = np.array([0.,1.,2.,3.,4.,5.,6.,])\n",
    "\n",
    "# np.pprint(t)\n",
    "print(t.ndim) #rank\n",
    "print(t.shape) #shape\n",
    "print(t[0],t[1],t[-2])\n",
    "print(t[2:5],t[4:-1])\n",
    "print(t[:2],t[3:])\n",
    "\n",
    "t = np.array([[1.,2.,3.],[4.,5.,6.],[7.,8.,9.],[10.,11.,12.]])\n",
    "print(t.ndim) #rank\n",
    "print(t.shape) #shape\n",
    "\n",
    "#shape, rank, axis(축)\n",
    "t = tf.constant([1,2,3,4])\n",
    "# tf.shape(t).eval()\n",
    "# tf.shape(t).eval(sess.as_default())\n",
    "tf.__version__"
   ]
  }
 ],
 "metadata": {
  "anaconda-cloud": {},
  "kernelspec": {
   "display_name": "Python 3",
   "language": "python",
   "name": "python3"
  },
  "language_info": {
   "codemirror_mode": {
    "name": "ipython",
    "version": 3
   },
   "file_extension": ".py",
   "mimetype": "text/x-python",
   "name": "python",
   "nbconvert_exporter": "python",
   "pygments_lexer": "ipython3",
   "version": "3.6.9"
  }
 },
 "nbformat": 4,
 "nbformat_minor": 1
}
