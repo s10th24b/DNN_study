{
 "cells": [
  {
   "cell_type": "code",
   "execution_count": null,
   "metadata": {},
   "outputs": [],
   "source": [
    "import tensorflow as tf\n",
    "import matplotlib.pyplot as plt"
   ]
  },
  {
   "cell_type": "code",
   "execution_count": 4,
   "metadata": {
    "attributes": {
     "classes": [],
     "id": "",
     "n": "4"
    }
   },
   "outputs": [
    {
     "data": {
      "text/plain": [
       "<module 'matplotlib.pyplot' from '/usr/local/lib/python3.6/dist-packages/matplotlib/pyplot.py'>"
      ]
     },
     "execution_count": 4,
     "metadata": {},
     "output_type": "execute_result"
    },
    {
     "data": {
      "image/png": "[encoded data removed]",
      "text/plain": [
       "<Figure size 432x288 with 1 Axes>"
      ]
     },
     "metadata": {
      "needs_background": "light"
     },
     "output_type": "display_data"
    }
   ],
   "source": [
    "# H(x) = Wx + b\n",
    "# [ H(x1) - y1) ]^2 + [ H(x2) - y2 ]^2 + ... + [ H(xm) - ym ]^2 을 m으로 나눈 것(즉, 평균)이 바로 cost function\n",
    "# cost(W,b) = cost function 가장 작은 W와 b를 구하는게 Linear Regression의 학습\n",
    "# minimize cost(W,b)\n",
    "\n",
    "\n",
    "# Simplify\n",
    "# H(x) = Wx\n",
    "# [ W x1 - y1) ]^2 + [ W x2 - y2 ]^2 + ... + [ W xm - ym ]^2 을 m으로 나눈 것(즉, 평균)이 바로 cost function\n",
    "\n",
    "# Gradient Descent Algorithm = Minimize cost function\n",
    "# Do until you converge to a local minimum\n",
    "# Where you start can determine which minimum you end up\n",
    "\n",
    "# W에 대해 미분하기 위해 m이 아닌 2m으로 나눠보자.\n",
    "# cost(W) = (1/2m) *  ( [ W x1 - y1) ]^2 + [ W x2 - y2 ]^2 + ... + [ W xm - ym ]^2 )\n",
    "# 미분한 최종값이 나온다! 고딩수준 수학\n",
    "# W := W - ...\n",
    "\n",
    "# Convex function. Gradient Descent Algorithm이 항상 같은 답을 찾는 함수다. 다행히 위의 우리의 식은 convex function임.\n",
    "# Linear Regression이 Convex Function의 형태를 띄고있는 걸 반드시 확인 후, 맞으면 안전하게 Gradient Descent Algorithm 적용가능\n",
    "# 위험한 건, convex function이 아닌 함수도 있다는 거다.\n",
    "\n",
    "\n",
    "X = [1,2,3]\n",
    "Y = [1,2,3]\n",
    "\n",
    "W = tf.placeholder(tf.float32)\n",
    "# Our hypothesis for linear model X * W\n",
    "hypothesis = X * W\n",
    "\n",
    "# cost/loss function\n",
    "cost = tf.reduce_mean(tf.square(hypothesis - Y))\n",
    "# Launch the graph in a session\n",
    "sess = tf.Session()\n",
    "# Initialzes global variables in the graph\n",
    "sess.run(tf.global_variables_initializer())\n",
    "\n",
    "W_val = []\n",
    "cost_val = []\n",
    "for i in range(-30,50):\n",
    "    feed_W = i * 0.1\n",
    "    curr_cost, curr_W = sess.run([cost,W], feed_dict={W: feed_W})\n",
    "    W_val.append(curr_W)\n",
    "    cost_val.append(curr_cost)\n",
    "\n",
    "# Show the cost function\n",
    "plt.plot(W_val,cost_val)\n",
    "# plt.show()\n",
    "plt"
   ]
  },
  {
   "cell_type": "code",
   "execution_count": null,
   "metadata": {},
   "outputs": [],
   "source": [
    "print(\"hi\")\n"
   ]
  }
 ],
 "metadata": {
  "kernelspec": {
   "display_name": "Python 3",
   "language": "python",
   "name": "python3"
  },
  "language_info": {
   "codemirror_mode": {
    "name": "ipython",
    "version": 3
   },
   "file_extension": ".py",
   "mimetype": "text/x-python",
   "name": "python",
   "nbconvert_exporter": "python",
   "pygments_lexer": "ipython3",
   "version": "3.6.9"
  }
 },
 "nbformat": 4,
 "nbformat_minor": 2
}
