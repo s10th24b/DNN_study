{
 "cells": [
  {
   "cell_type": "code",
   "execution_count": null,
   "metadata": {},
   "outputs": [],
   "source": [
    "import tensorflow as tf\n",
    "import numpy as np\n",
    "from sklearn.preprocessing import MinMaxScaler"
   ]
  },
  {
   "cell_type": "code",
   "execution_count": null,
   "metadata": {},
   "outputs": [],
   "source": [
    "x_train = [[1,2,1],[1,3,2],[1,3,4],[1,5,5],[1,7,5],[1,2,5],[1,6,6],[1,7,7]]\n",
    "scaled_x_train = MinMaxScaler(x_train)\n",
    "y_train = [[0,0,1],[0,0,1],[0,0,1],[0,1,0],[0,1,0],[0,1,0],[1,0,0],[1,0,0]]\n",
    "scaled_y_train = MinMaxScaler(y_train)"
   ]
  },
  {
   "cell_type": "code",
   "execution_count": null,
   "metadata": {},
   "outputs": [],
   "source": [
    "x_test = [[2,1,1],[3,1,2],[3,3,4]]\n",
    "scaled_x_test = MinMaxScaler(x_test)\n",
    "y_test = [[0,0,1],[0,0,1],[0,0,1]]\n",
    "scaled_y_test = MinMaxScaler(y_test)"
   ]
  },
  {
   "cell_type": "code",
   "execution_count": null,
   "metadata": {},
   "outputs": [],
   "source": [
    "X = tf.placeholder(tf.float32,[None,3])\n",
    "Y = tf.placeholder(tf.float32,[None,3])\n",
    "W = tf.Variable(tf.random.normal([3,3]))\n",
    "b = tf.Variable(tf.random.normal([3]))"
   ]
  },
  {
   "cell_type": "code",
   "execution_count": null,
   "metadata": {},
   "outputs": [],
   "source": [
    "learning_rate = 0.01"
   ]
  },
  {
   "cell_type": "code",
   "execution_count": null,
   "metadata": {},
   "outputs": [],
   "source": [
    "logits = tf.matmul(X,W)+b\n",
    "hypothesis = tf.nn.softmax(logits)\n",
    "cost_i = -tf.reduce_sum(Y*tf.log(hypothesis),axis=1)\n",
    "cost = tf.reduce_mean(cost_i)\n",
    "optimizer = tf.train.GradientDescentOptimizer(learning_rate).minimize(cost)"
   ]
  },
  {
   "cell_type": "code",
   "execution_count": null,
   "metadata": {},
   "outputs": [],
   "source": [
    "prediction = tf.argmax(hypothesis,axis=1)\n",
    "is_correct = tf.equal(prediction,tf.argmax(Y,axis=1))\n",
    "acc = tf.reduce_mean(tf.cast(is_correct,dtype=tf.float32))"
   ]
  },
  {
   "cell_type": "code",
   "execution_count": null,
   "metadata": {},
   "outputs": [],
   "source": [
    "with tf.Session() as sess:\n",
    "    sess.run(tf.global_variables_initializer())\n",
    "\n",
    "    # for step in range(500):\n",
    "        # sess.run(optimizer,feed_dict={X:x_train,Y:y_train})\n",
    "\n",
    "        # print(\"step:\",step,\"cost:\",sess.run([cost,prediction],feed_dict={X:x_train,Y:y_train}))\n",
    "        # print(\"step:\",step,\"acc:\",sess.run([acc,tf.argmax(y_train,1)],feed_dict={X:x_train,Y:y_train}))\n",
    "    # print(\"Testing....\")\n",
    "    # print(\"acc:\",sess.run(acc,feed_dict={X:x_test,Y:y_test}))\n",
    "    for step in range(500):\n",
    "        sess.run(optimizer,feed_dict={X:x_train,Y:y_train})\n",
    "        print(\"step:\",step,\"cost:\",sess.run([cost,prediction],feed_dict={X:scaled_x_train,Y:scaled_y_train}))\n",
    "        print(\"step:\",step,\"acc:\",sess.run([acc,tf.argmax(scaled_y_train,1)],feed_dict={X:scaled_x_train,Y:scaled_y_train}))\n",
    "    print(\"Testing....\")\n",
    "    print(\"acc:\",sess.run(acc,feed_dict={X:scaled_x_test,Y:scaled_y_test}))"
   ]
  }
 ],
 "metadata": {
  "kernelspec": {
   "display_name": "Python 3",
   "language": "python",
   "name": "python3"
  },
  "language_info": {
   "codemirror_mode": {
    "name": "ipython",
    "version": 3
   },
   "file_extension": ".py",
   "mimetype": "text/x-python",
   "name": "python",
   "nbconvert_exporter": "python",
   "pygments_lexer": "ipython3",
   "version": "3.6.9"
  }
 },
 "nbformat": 4,
 "nbformat_minor": 2
}
