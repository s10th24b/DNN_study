{
 "cells": [
  {
   "cell_type": "code",
   "execution_count": 48,
   "metadata": {},
   "outputs": [
    {
     "name": "stdout",
     "output_type": "stream",
     "text": [
      "Extracting MNIST_data/train-images-idx3-ubyte.gz\n",
      "Extracting MNIST_data/train-labels-idx1-ubyte.gz\n",
      "Extracting MNIST_data/t10k-images-idx3-ubyte.gz\n",
      "Extracting MNIST_data/t10k-labels-idx1-ubyte.gz\n"
     ]
    }
   ],
   "source": [
    "import tensorflow as tf\n",
    "import numpy as np\n",
    "import matplotlib.pyplot as plt\n",
    "import random\n",
    "from tensorflow.examples.tutorials.mnist import input_data\n",
    "mnist = input_data.read_data_sets(\"MNIST_data/\", one_hot=True)"
   ]
  },
  {
   "cell_type": "markdown",
   "metadata": {},
   "source": [
    "CNN이 특히 이미지에 강함. 아산병원에서 열린 콘테스트에서 CNN을 이용해 CT이미지 결과를 보는 거 만들어서 1등."
   ]
  },
  {
   "cell_type": "markdown",
   "metadata": {},
   "source": [
    "CNN은 2가지로 나눠볼 수 있다. 주어진 이미지 벡터에 필터를 갖다대어 각각 1개 값을 뽑아내고 이미지 벡터가 출력되고,<br>\n",
    "이것을 sampling 과정을 거친다. 이렇게 2개."
   ]
  },
  {
   "cell_type": "markdown",
   "metadata": {},
   "source": [
    "우선 간단한 Convolution layer 만들어보자. stride = 1<br>\n",
    "3x3x1 image -> 2x2x1 filter W<br>\n",
    "이 과정을 거치면 몇개의 데이터? -> 2x2x1의 데이터가 나올 것."
   ]
  },
  {
   "cell_type": "markdown",
   "metadata": {},
   "source": [
    "그럼 이제 이미지를 만들어보자.<br>\n",
    "sess = tf.InteractiveSession()"
   ]
  },
  {
   "cell_type": "code",
   "execution_count": 49,
   "metadata": {},
   "outputs": [
    {
     "name": "stdout",
     "output_type": "stream",
     "text": [
      "(1, 3, 3, 1)\n"
     ]
    },
    {
     "data": {
      "image/png": "[encoded data removed]",
      "text/plain": [
       "<Figure size 432x288 with 1 Axes>"
      ]
     },
     "metadata": {
      "needs_background": "light"
     },
     "output_type": "display_data"
    }
   ],
   "source": [
    "sess = tf.Session()\n",
    "image = np.array([[[[1],[2],[3]],[[4],[5],[6]],[[7],[8],[9]]]],dtype=np.float32)\n",
    "print(image.shape)\n",
    "plt.imshow(image.reshape(3,3),cmap='Greys')\n",
    "plt.show()\n",
    "# (1, 3, 3, 1) 맨 앞의 1은 1개의 이미지를 뜻함."
   ]
  },
  {
   "cell_type": "markdown",
   "metadata": {},
   "source": [
    "필터 크기는 2,2,1(color, 원 이미지랑 같아야함),1(필터개수) stride=1x1, padding:valid<br>\n",
    "-> 계산해보면 [[12],[16],[...],[...]]"
   ]
  },
  {
   "cell_type": "code",
   "execution_count": 50,
   "metadata": {},
   "outputs": [
    {
     "name": "stdout",
     "output_type": "stream",
     "text": [
      "weight.shape: (2, 2, 1, 1)\n",
      "conv2d_img.shape: (1, 2, 2, 1)\n",
      "[[12. 16.]\n",
      " [24. 28.]]\n"
     ]
    },
    {
     "data": {
      "image/png": "[encoded data removed]",
      "text/plain": [
       "<Figure size 432x288 with 1 Axes>"
      ]
     },
     "metadata": {
      "needs_background": "light"
     },
     "output_type": "display_data"
    }
   ],
   "source": [
    "weight = tf.constant([[[[1.]],[[1.]]],[[[1.]],[[1.]]]])\n",
    "print(\"weight.shape:\",weight.shape)\n",
    "conv2d = tf.nn.conv2d(image,weight,strides=[1,1,1,1],padding=\"VALID\") #Zero-padding을 하지 않겠다\n",
    "conv2d_img = conv2d.eval(session=sess)\n",
    "print(\"conv2d_img.shape:\",conv2d_img.shape)\n",
    "conv2d_img = np.swapaxes(conv2d_img,0,3)\n",
    "for i , one_img in enumerate(conv2d_img):\n",
    "    print(one_img.reshape(2,2))\n",
    "    plt.subplot(1,2,i+1),plt.imshow(one_img.reshape(2,2),cmap='gray')\n",
    "    plt.show()"
   ]
  },
  {
   "cell_type": "code",
   "execution_count": 51,
   "metadata": {},
   "outputs": [
    {
     "name": "stdout",
     "output_type": "stream",
     "text": [
      "conv2d_img.shape: (1, 3, 3, 1)\n",
      "[[12. 16.  9.]\n",
      " [24. 28. 15.]\n",
      " [15. 17.  9.]]\n"
     ]
    },
    {
     "data": {
      "image/png": "[encoded data removed]",
      "text/plain": [
       "<Figure size 432x288 with 1 Axes>"
      ]
     },
     "metadata": {
      "needs_background": "light"
     },
     "output_type": "display_data"
    }
   ],
   "source": [
    "conv2d = tf.nn.conv2d(image,weight,strides=[1,1,1,1],padding=\"SAME\") #출력을 원본 이미지와 같도록 패딩하여 뽑아내겠다 = 우측에 zero열을 하나 만든다.\n",
    "conv2d_img = conv2d.eval(session=sess)\n",
    "print(\"conv2d_img.shape:\",conv2d_img.shape)\n",
    "conv2d_img = np.swapaxes(conv2d_img,0,3)\n",
    "for i , one_img in enumerate(conv2d_img):\n",
    "    print(one_img.reshape(3,3))\n",
    "    plt.subplot(1,2,i+1),plt.imshow(one_img.reshape(3,3),cmap='gray')\n",
    "    plt.show()"
   ]
  },
  {
   "cell_type": "markdown",
   "metadata": {},
   "source": [
    "만약 필터를 여러개 쓰고 싶다면?"
   ]
  },
  {
   "cell_type": "code",
   "execution_count": 52,
   "metadata": {},
   "outputs": [
    {
     "name": "stdout",
     "output_type": "stream",
     "text": [
      "만약 필터를 여러개 쓰고 싶다면?\n",
      "(1, 3, 3, 1)\n",
      "weight.shape: (2, 2, 1, 3)\n",
      "conv2d_img.shape: (3, 3, 3, 1)\n",
      "[[12. 16.  9.]\n",
      " [24. 28. 15.]\n",
      " [15. 17.  9.]]\n",
      "[[120. 160.  90.]\n",
      " [240. 280. 150.]\n",
      " [150. 170.  90.]]\n",
      "[[-12. -16.  -9.]\n",
      " [-24. -28. -15.]\n",
      " [-15. -17.  -9.]]\n"
     ]
    },
    {
     "data": {
      "image/png": "[encoded data removed]",
      "text/plain": [
       "<Figure size 432x288 with 3 Axes>"
      ]
     },
     "metadata": {
      "needs_background": "light"
     },
     "output_type": "display_data"
    }
   ],
   "source": [
    "print(\"만약 필터를 여러개 쓰고 싶다면?\")\n",
    "image = np.array([[[[1],[2],[3]],[[4],[5],[6]],[[7],[8],[9]]]],dtype=np.float32)\n",
    "print(image.shape)\n",
    "weight = tf.constant([[[[1.,10.,-1.]],[[1.,10.,-1.]]],[[[1.,10.,-1.]],[[1.,10.,-1.]]]])\n",
    "print(\"weight.shape:\",weight.shape)\n",
    "# (2, 2, 1, 3) 에서, 마지막 3이 필터의 개수를 뜻한다.\n",
    "conv2d = tf.nn.conv2d(image,weight,strides=[1,1,1,1],padding=\"SAME\") #Zero-padding을 하지 않겠다\n",
    "conv2d_img = conv2d.eval(session=sess)\n",
    "conv2d_img = np.swapaxes(conv2d_img,0,3)\n",
    "print(\"conv2d_img.shape:\",conv2d_img.shape)\n",
    "for i , one_img in enumerate(conv2d_img):\n",
    "    print(one_img.reshape(3,3))\n",
    "    plt.subplot(1,3,i+1),plt.imshow(one_img.reshape(3,3),cmap='gray')\n",
    "plt.show()"
   ]
  },
  {
   "cell_type": "markdown",
   "metadata": {},
   "source": [
    "이제 Pooling을 할 것."
   ]
  },
  {
   "cell_type": "code",
   "execution_count": 53,
   "metadata": {},
   "outputs": [
    {
     "name": "stdout",
     "output_type": "stream",
     "text": [
      "이제 Pooling을 할 것.\n",
      "pool.shape: (1, 2, 2, 1)\n",
      "pool.eval(session=sess): [[[[4.]\n",
      "   [3.]]\n",
      "\n",
      "  [[2.]\n",
      "   [1.]]]]\n"
     ]
    }
   ],
   "source": [
    "print('이제 Pooling을 할 것.')\n",
    "image = np.array([[[[4],[3]],[[2],[1]]]],dtype=np.float32)\n",
    "pool = tf.nn.max_pool(image,ksize=[1,2,2,1],strides=[1,1,1,1],padding='SAME')\n",
    "# ksize: 4개이상의 크기를 갖는 리스트로 입력 데이터의 각 차원의 윈도우 크기\n",
    "#ksize는 커널사이즈를 말한다. ksize가 [1,2,2,1]이라는 뜻은 2칸씩 이동하면서 출력결과를 1개 만들어 낸다는 것이다.\n",
    "# 다시말해 4개의 데이터 중 에서 가장 큰 1개를 반환하는 역할을 한다.\n",
    "# 2,2 가 2x2를 말함.\n",
    "print(\"pool.shape:\",pool.shape)\n",
    "print(\"pool.eval(session=sess):\",pool.eval(session=sess))"
   ]
  },
  {
   "cell_type": "markdown",
   "metadata": {},
   "source": [
    "이제 실제 MNIST데이터에 적용."
   ]
  },
  {
   "cell_type": "code",
   "execution_count": 54,
   "metadata": {},
   "outputs": [
    {
     "name": "stdout",
     "output_type": "stream",
     "text": [
      "이제 실제 MNIST데이터에 적용.\n"
     ]
    },
    {
     "data": {
      "image/png": "[encoded data removed]",
      "text/plain": [
       "<Figure size 432x288 with 1 Axes>"
      ]
     },
     "metadata": {
      "needs_background": "light"
     },
     "output_type": "display_data"
    }
   ],
   "source": [
    "print('이제 실제 MNIST데이터에 적용.')\n",
    "img = mnist.train.images[0].reshape(28,28)\n",
    "plt.imshow(img,cmap='gray')\n",
    "plt.show()"
   ]
  },
  {
   "cell_type": "code",
   "execution_count": 55,
   "metadata": {},
   "outputs": [
    {
     "name": "stdout",
     "output_type": "stream",
     "text": [
      "W1: <tf.Variable 'Variable_5:0' shape=(3, 3, 1, 5) dtype=float32_ref>\n",
      "conv2d: Tensor(\"Conv2D_20:0\", shape=(1, 14, 14, 5), dtype=float32)\n",
      "conv2d_img.shape: (5, 14, 14, 1)\n"
     ]
    },
    {
     "data": {
      "image/png": "[encoded data removed]",
      "text/plain": [
       "<Figure size 432x288 with 5 Axes>"
      ]
     },
     "metadata": {
      "needs_background": "light"
     },
     "output_type": "display_data"
    }
   ],
   "source": [
    "sess = tf.Session()\n",
    "img = img.reshape(-1,28,28,1)\n",
    "W1 = tf.Variable(tf.random.normal([3,3,1,5],stddev=0.01))\n",
    "sess.run(tf.global_variables_initializer())\n",
    "print(\"W1:\",W1)\n",
    "conv2d = tf.nn.conv2d(img,W1,strides=[1,2,2,1],padding='SAME') # SAME이라도 stride가 2면, 28 -> 14로 나온다.\n",
    "print(\"conv2d:\",conv2d)\n",
    "conv2d_img = conv2d.eval(session=sess)\n",
    "conv2d_img = np.swapaxes(conv2d_img,0,3)\n",
    "print(\"conv2d_img.shape:\",conv2d_img.shape)\n",
    "for i, one_img in enumerate(conv2d_img):\n",
    "    plt.subplot(1,5,i+1),plt.imshow(one_img.reshape(14,14),cmap='gray')\n",
    "plt.show()"
   ]
  },
  {
   "cell_type": "code",
   "execution_count": null,
   "metadata": {},
   "outputs": [],
   "source": []
  }
 ],
 "metadata": {
  "kernelspec": {
   "display_name": "Python 3",
   "language": "python",
   "name": "python3"
  },
  "language_info": {
   "codemirror_mode": {
    "name": "ipython",
    "version": 3
   },
   "file_extension": ".py",
   "mimetype": "text/x-python",
   "name": "python",
   "nbconvert_exporter": "python",
   "pygments_lexer": "ipython3",
   "version": "3.6.9"
  }
 },
 "nbformat": 4,
 "nbformat_minor": 2
}
