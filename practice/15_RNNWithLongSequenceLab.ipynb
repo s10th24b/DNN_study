{
 "cells": [
  {
   "cell_type": "code",
   "execution_count": null,
   "metadata": {},
   "outputs": [],
   "source": [
    "import "
   ]
  },
  {
   "cell_type": "code",
   "execution_count": null,
   "metadata": {},
   "outputs": [],
   "source": [
    "# 우린 HiHelloRNNLab에서 Manually하게 one-hot으로 data creation을 했다.\n",
    "# 각각 문자에 대한 인덱스와 해당되는 번호를 손으로 만들었다.\n",
    "# 하지만 문자열이 길어지면 힘들다. 그래서 자동으로 해보자."
   ]
  },
  {
   "cell_type": "code",
   "execution_count": 5,
   "metadata": {},
   "outputs": [
    {
     "name": "stdout",
     "output_type": "stream",
     "text": [
      "[' ', 'w', 'a', 't', 'n', 'f', 'y', 'u', 'o', 'i']\n"
     ]
    }
   ],
   "source": [
    "sample = \"if you want you\"\n",
    "idx2char = list(set(sample)) # index -> char\n",
    "print(idx2char)"
   ]
  },
  {
   "cell_type": "code",
   "execution_count": null,
   "metadata": {},
   "outputs": [],
   "source": []
  }
 ],
 "metadata": {
  "kernelspec": {
   "display_name": "Python 3",
   "language": "python",
   "name": "python3"
  },
  "language_info": {
   "codemirror_mode": {
    "name": "ipython",
    "version": 3
   },
   "file_extension": ".py",
   "mimetype": "text/x-python",
   "name": "python",
   "nbconvert_exporter": "python",
   "pygments_lexer": "ipython3",
   "version": "3.6.9"
  }
 },
 "nbformat": 4,
 "nbformat_minor": 2
}
