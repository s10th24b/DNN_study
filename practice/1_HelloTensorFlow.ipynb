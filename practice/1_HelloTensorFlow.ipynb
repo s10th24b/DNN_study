```{.python.input}
import tensorflow as tf

# Create a constant op
# This op is added as a node to the default graph

print(tf.__version__)
hello = tf.constant("Hello, Tensorflow!")

# start a TF session
sess = tf.session()

# run the op and get result
print(sess.run(hello))
```
